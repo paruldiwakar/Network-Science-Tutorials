{
 "cells": [
  {
   "cell_type": "markdown",
   "id": "b2b64d39-62d3-49f0-ab17-7864f499febf",
   "metadata": {},
   "source": [
    "1. Draw the adjacency matrix, adjacency list and edge list for the given networks.\n",
    "   \n",
    "<img src=\"https://web.stanford.edu/class/bios221/NetworkSlides_files/figure-slidy/igraphplot1-1.png\" style=\"width:600px;\"/>\n"
   ]
  },
  {
   "cell_type": "markdown",
   "id": "1dd897fb-3f6f-44eb-b0b9-96f5727fdfea",
   "metadata": {},
   "source": [
    "<details>\n",
    "  <summary>Ans 1</summary>\n",
    "    \n",
    "a. Adjacency Matrix\n",
    "\n",
    "\n",
    "<img src=\"as.png\" alt=\"Alt Text\" style=\"width: 300px;\"/>\n",
    "\n",
    "\n",
    "b. Adjacency list\n",
    "\n",
    "<img src=\"ll.png\" alt=\"Alt Text\" style=\"width: 300px;\"/>\n",
    "\n",
    "c. Edge list = [[1, 3], [2, 3], [3, 4], [4, 5], [4, 6]]\n"
   ]
  },
  {
   "cell_type": "markdown",
   "id": "e569d24d-956f-4dd8-b510-fd430bf34a62",
   "metadata": {},
   "source": [
    "2. Compute the following for the given network.\n",
    "   1. Shortest Path length for all pairs  of nodes.\n",
    "   2. Diameter of the network\n",
    "   3. Average Path Length\n",
    "   4. Average degree of the network\n",
    "   5. Network density\n",
    "  \n",
    "<img src=\"gg.png\" alt=\"Alt Text\" style=\"width: 300px;\"/>"
   ]
  },
  {
   "cell_type": "markdown",
   "id": "a21ca2d7-6e29-479b-9d54-47f4bfa577ee",
   "metadata": {},
   "source": [
    "<details>\n",
    "  <summary>Ans 2</summary>\n",
    "   1. Shortest Path length for all pairs  of nodes\n",
    "    \n",
    "     (1, 2) = 1, (1, 4) = 3\n",
    "     (1, 3) = 2, (1, 5) = 2\n",
    "     (2, 3) = 1, (2, 4) = 2\n",
    "     (2, 5) = 1, (3, 4) = 1\n",
    "     (3, 5) = 2, (4, 5) = 1\n",
    "   2. Diameter of the network = 3\n",
    "   3. Average Path Length = 1.6\n",
    "   4. Average degree of the network = 2"
   ]
  },
  {
   "cell_type": "markdown",
   "id": "59ca824c-139c-4e12-897c-c56e5bbbc357",
   "metadata": {},
   "source": [
    "3. In the  given graph, does an Eulerian path and a Hamiltonian path exist? If yes, draw them.\n",
    "\n",
    "- Eulerian Path : A path that traverses each link exactly once.\n",
    "- Hamiltonian Path : A path that visits each node exactly once\n",
    "\n",
    "  <img src=\"gg.png\" alt=\"Alt Text\" style=\"width: 300px;\"/>"
   ]
  },
  {
   "cell_type": "markdown",
   "id": "cf864c7c-e426-47e4-81cf-b8ce156d9fb0",
   "metadata": {},
   "source": [
    "<details>\n",
    "  <summary>Ans 3</summary> \n",
    "    \n",
    "  1. Eulerian Path = (1,2)->(2,5)->(5,4)->(4,3)->(3,2) etc\n",
    "    \n",
    "  2. Hamiltonian Path = 1->2->3->4->5 or 1->2->5->4->3 etc"
   ]
  },
  {
   "cell_type": "markdown",
   "id": "7e593423-4da0-44f8-9e18-141801add6a8",
   "metadata": {},
   "source": [
    "4. For the given network, compute the clustering coefficient for each node.\n",
    " \n",
    " <img src=\"clus.png\" alt=\"Alt Text\" style=\"width: 600px;\"/>"
   ]
  },
  {
   "cell_type": "markdown",
   "id": "b59e3be1-001b-4f38-9d9f-09d4d9b6cf3f",
   "metadata": {},
   "source": [
    "<details>\n",
    "  <summary>Ans 4</summary>\n",
    "The clustering coefficient captures the degree to which the neighbors of a given node link to each other. For a node i with degree ki the local clustering coefficient is defined as\n",
    "    \n",
    "$$C_i = \\frac{2L_i}{k_i(k_i - 1)}$$\n",
    "\n",
    "where Li represents the number of links between the ki neighbors of node i.\n",
    "\n",
    " 1. 0: 0.6666666666666666,\n",
    " 2. 1: 0.3,\n",
    " 3. 2: 1.0,\n",
    " 4. 3: 1.0,\n",
    " 5. 4: 0,\n",
    " 6. 5: 0,\n",
    " 7. 6: 0.3333333333333333    "
   ]
  },
  {
   "cell_type": "markdown",
   "id": "4b6c524d-3fb3-4116-9ac3-9b17a8a27d0f",
   "metadata": {},
   "source": [
    "5. For a node i, find the sum of ratios of no. of shortest paths passing through i for a pair of nodes (s, t) to the total no. of shortest paths between nodes s and t. You have to consider all node pairs (s,t) for each node i where s != i != t\n",
    "\n",
    "<img src=\"gg.png\" alt=\"Alt Text\" style=\"width: 300px;\"/>"
   ]
  },
  {
   "cell_type": "markdown",
   "id": "42b22fbd-53f1-4004-a57b-7fe111e39689",
   "metadata": {},
   "source": [
    "<details>\n",
    "  <summary>Ans 5</summary>\n",
    "\n",
    "  1. Node 1 :\n",
    "    e(2,3) + e(2,4)+ e(2,5) + e(3,4) + e(3,5) + e(4,5) = 0/1 + 0/2 + 0/1 + 0/1 + 0/2 + 0/1 = 0 \n",
    "\n",
    "  2. Node 2 :\n",
    "    e(1,3) + e(1,4)+ e(1,5) + e(3,4) + e(3,5) + e(4,5) = 1/1 + 2/2 + 1/1 + 0/1 + 1/2 + 0/1 = 3.5\n",
    "  3. Node 3 :\n",
    "    e(1,2) + e(1,4)+ e(1,5) + e(2,4) + e(2,5) + e(4,5) = 0/1 + 1/2 + 0/1 + 1/2 + 0/1 + 0/1 = 1\n",
    "  4. Node 4 :\n",
    "     e(1,2) + e(1,3) + e(1,5) + e(2,3) + e(2,5) + e(3,5) = 0/1 + 0/1 + 0/1 + 0/1 + 0/1 + 1/2 = 0.5\n",
    "  5. Node 5 :\n",
    "     e(1,2) + e(1,3) + e(1,4) + e(2,3) + e(2,4) + e(3,4) = 0/1 + 0/1 + 1/2 + 0/1 + 1/2 + 0/1 = 1"
   ]
  },
  {
   "cell_type": "markdown",
   "id": "bce1e71d-5f6f-4b13-a812-4b425f300aef",
   "metadata": {},
   "source": [
    "6. Consider a class of elementary school students consisting of 9 boys and 12 girls. Suppose a social network on this group exhibits extreme gender homophily; that is, it has no cross-gender edges. Compute the maximum number of possible edges in the social network."
   ]
  },
  {
   "cell_type": "markdown",
   "id": "73746b7f-be61-480a-9b6e-fa7aef8f1ce2",
   "metadata": {},
   "source": [
    "<details>\n",
    "  <summary>Ans 6</summary>\n",
    "When the network exhibits extreme gender homophily, each edge is between a pair of boys or a pair of girls. For an undirected graph with n nodes, the maximum number of possible edges = n(n − 1)/2.\n",
    "Thus, the maximum number of possible edges among boys = 9(9−1)/2 = 36 and the maximum number of possible edges among girls = 12(12 − 1)/2 = 66. Therefore, the maximum number of possible edges in the network is 36 + 66 = 102."
   ]
  },
  {
   "cell_type": "markdown",
   "id": "6f887565-edba-4cb1-880b-7067aacf3191",
   "metadata": {},
   "source": [
    "7. Conduct a Breadth-First Search (BFS) traversal on the provided network, employing each node as a starting point in turn.\n",
    "\n",
    "    <img src=\"bfs.png\" alt=\"Alt Text\" style=\"width: 300px;\"/>"
   ]
  },
  {
   "cell_type": "markdown",
   "id": "b61407ec-7f2c-40f1-83f5-48a9d8fb70aa",
   "metadata": {},
   "source": [
    "<details>\n",
    "  <summary>Ans 7</summary>\n",
    "    \n",
    "  1. src node = 1 : 1->2->7->5->3->4->6\n",
    "  2. src node = 2 : 2->1->3->5->7->4->6\n",
    "  3. src node = 3 : 3->2->4->1->5->7->6\n",
    "  4. src node = 4 : 4->3->5->2->6->1->7\n",
    "  5. src node = 5 : 5->4->6->3->2->1->7\n",
    "  6. src node = 6 : 6->5->2->4->1->3->7\n",
    "  7. src node = 7 : 7->1->2->3->5->4->6"
   ]
  },
  {
   "cell_type": "markdown",
   "id": "d806a941-9430-4ad5-8409-20e7ff470df3",
   "metadata": {},
   "source": [
    "8. For the given Bipartite network answer the following.\n",
    "   1. Draw the projection of both sets of nodes.\n",
    "   2. Maximum number of links this network can have.\n",
    "\n",
    "<img src=\"http://networksciencebook.com/images/ch-02/figure-2-21.jpg\" style=\"width:700px;\"/>"
   ]
  },
  {
   "cell_type": "markdown",
   "id": "c736fa62-3a82-4000-ad46-7e4b55dd8f03",
   "metadata": {},
   "source": [
    "<details>\n",
    "  <summary>Ans 8</summary>\n",
    "\n",
    "A. Projection Networks\n",
    "\n",
    "1. Set 1 Projection Network(Purple nodes)\n",
    "\n",
    "   <img src=\"s1.png\" alt=\"Alt Text\" style=\"width: 300px;\"/>\n",
    "\n",
    "2. Set 2 Projection Network(Green nodes)\n",
    "\n",
    "   <img src=\"s2.png\" alt=\"Alt Text\" style=\"width: 300px;\"/>\n",
    "\n",
    "B. For an undirected graph with n nodes, the maximum number of possible links = n(n − 1)/2. So,\n",
    " for the entire network, total no. of links = 11(11 - 1)/2 = 55,\n",
    " for Set 1, total no. of links = 6(6 - 1)/2 = 15,\n",
    " for Set 2, total no. of links = 5(5 - 1)/2 = 10\n",
    "\n",
    " As it is a bipartite network,the two sets cannot have links among themselves, so maximum no. of link this network can have is 55 - 15 - 10 = 30\n"
   ]
  },
  {
   "cell_type": "markdown",
   "id": "b2276481-55cd-4a73-8cfb-35c359e0d034",
   "metadata": {},
   "source": [
    "- Follow up Ques.  Can you draw two different bipartite networks in which one set of nodes have same projection network?\n"
   ]
  }
 ],
 "metadata": {
  "kernelspec": {
   "display_name": "Python 3 (ipykernel)",
   "language": "python",
   "name": "python3"
  },
  "language_info": {
   "codemirror_mode": {
    "name": "ipython",
    "version": 3
   },
   "file_extension": ".py",
   "mimetype": "text/x-python",
   "name": "python",
   "nbconvert_exporter": "python",
   "pygments_lexer": "ipython3",
   "version": "3.11.4"
  }
 },
 "nbformat": 4,
 "nbformat_minor": 5
}
